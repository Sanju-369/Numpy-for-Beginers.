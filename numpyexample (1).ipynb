{
 "cells": [
  {
   "cell_type": "code",
   "execution_count": 1,
   "id": "19bac94d-976a-440d-9ff7-70294ebf0a36",
   "metadata": {},
   "outputs": [],
   "source": [
    "import numpy as np"
   ]
  },
  {
   "cell_type": "code",
   "execution_count": 2,
   "id": "074f54fd-a57b-4eb1-90b6-e548e1e65d7c",
   "metadata": {},
   "outputs": [
    {
     "data": {
      "text/plain": [
       "array([0, 1, 2, 3])"
      ]
     },
     "execution_count": 2,
     "metadata": {},
     "output_type": "execute_result"
    }
   ],
   "source": [
    "x =np.arange(4)\n",
    "x\n"
   ]
  },
  {
   "cell_type": "markdown",
   "id": "f2f5152e-8f8f-40e3-b84c-64a0cf529b3d",
   "metadata": {},
   "source": [
    "### Exploring numpys u functions"
   ]
  },
  {
   "cell_type": "markdown",
   "id": "9f24d790-4fd5-43b4-af87-3df7209baada",
   "metadata": {},
   "source": [
    "#### Array Airthmatic"
   ]
  },
  {
   "cell_type": "code",
   "execution_count": 3,
   "id": "53e57a0e-0d3b-4b95-a0ab-244e4c9a9359",
   "metadata": {},
   "outputs": [
    {
     "name": "stdout",
     "output_type": "stream",
     "text": [
      "x = [0 1 2 3]\n",
      "x + 5 = [5 6 7 8]\n",
      "x - 5 = [-5 -4 -3 -2]\n",
      "x * 5= [ 0  5 10 15]\n",
      "x / 5 [0.  0.2 0.4 0.6]\n",
      "x // 5= [0 0 0 0]\n",
      "x**5= [  0   1  32 243]\n",
      "x % 5= [0 1 2 3]\n"
     ]
    }
   ],
   "source": [
    "print(\"x =\",x)\n",
    "print(\"x + 5 =\",x+5)\n",
    "print(\"x - 5 =\",x-5)\n",
    "print(\"x * 5=\",x*5)\n",
    "print(\"x / 5\",x/5)\n",
    "print(\"x // 5=\",x//5)\n",
    "print(\"x**5=\",x**5)\n",
    "print(\"x % 5=\",x%5)"
   ]
  },
  {
   "cell_type": "markdown",
   "id": "c32c14da-4020-42e2-8131-478207c816c4",
   "metadata": {},
   "source": [
    "### Absolute function"
   ]
  },
  {
   "cell_type": "code",
   "execution_count": 4,
   "id": "53a205ef-23fa-401c-811b-1c8e4ff97f4b",
   "metadata": {},
   "outputs": [
    {
     "data": {
      "text/plain": [
       "array([11,  1,  3,  0,  1,  2])"
      ]
     },
     "execution_count": 4,
     "metadata": {},
     "output_type": "execute_result"
    }
   ],
   "source": [
    "x=np.array([11,-1,-3,0,1,2])\n",
    "np.absolute(x)"
   ]
  },
  {
   "cell_type": "markdown",
   "id": "d59fecc2-5995-4dbe-a6f5-8d20c0591f93",
   "metadata": {},
   "source": [
    "##### this u function can  handle also complex data and return magnitude of absolute value"
   ]
  },
  {
   "cell_type": "code",
   "execution_count": 5,
   "id": "1eab23b9-862f-4896-afe3-7db9b1edc997",
   "metadata": {},
   "outputs": [
    {
     "data": {
      "text/plain": [
       "array([5.        , 5.        , 2.        , 2.23606798])"
      ]
     },
     "execution_count": 5,
     "metadata": {},
     "output_type": "execute_result"
    }
   ],
   "source": [
    "x= np.array([3 - 4j,4-3j,2+0j,1+2j])\n",
    "abs(x)"
   ]
  },
  {
   "cell_type": "markdown",
   "id": "0d887d03-e2f6-4fe6-b91d-6c2974c781f7",
   "metadata": {},
   "source": [
    "### Trigonmetric Function"
   ]
  },
  {
   "cell_type": "code",
   "execution_count": 6,
   "id": "5a402f19-d8e3-4031-b3f6-a25c8d8d4444",
   "metadata": {},
   "outputs": [
    {
     "name": "stdout",
     "output_type": "stream",
     "text": [
      "tan(theta) = 1.6197751905438615\n",
      "sin(theta) = 0.8509035245341184\n",
      "cos(theta) = 0.5253219888177297\n"
     ]
    }
   ],
   "source": [
    "theta=45\n",
    "print (\"tan(theta) =\",np.tan(theta))\n",
    "print(\"sin(theta) =\",np.sin(theta))\n",
    "print(\"cos(theta) =\",np.cos(theta))\n",
    "\n"
   ]
  },
  {
   "cell_type": "markdown",
   "id": "888b44b0-e762-470d-95af-18aba4b026af",
   "metadata": {},
   "source": [
    "### It is also avialable in Inverse Trigonmetric"
   ]
  },
  {
   "cell_type": "code",
   "execution_count": 7,
   "id": "cde0781f-8e6b-49d3-8270-0ddcb14aed21",
   "metadata": {},
   "outputs": [
    {
     "name": "stdout",
     "output_type": "stream",
     "text": [
      "arcsin(x) = [-1.57079633  0.          1.57079633]\n",
      "arccos(x) = [3.14159265 1.57079633 0.        ]\n",
      "arctan(x) = [-0.78539816  0.          0.78539816]\n"
     ]
    }
   ],
   "source": [
    "x = np.array([-1,0,1])\n",
    "print(\"arcsin(x) =\",np.arcsin(x))\n",
    "print(\"arccos(x) =\",np.arccos(x))\n",
    "print(\"arctan(x) =\",np.arctan(x))"
   ]
  },
  {
   "cell_type": "markdown",
   "id": "792b86e3-6aed-4fad-a66c-8d607b86c942",
   "metadata": {},
   "source": [
    "## Exponets & Logarithm"
   ]
  },
  {
   "cell_type": "code",
   "execution_count": 8,
   "id": "be9c85e7-287d-45d7-b2cf-4ce0580dd777",
   "metadata": {},
   "outputs": [
    {
     "name": "stdout",
     "output_type": "stream",
     "text": [
      "x = [0 1 2 3]\n",
      "e^x = [ 1.          2.71828183  7.3890561  20.08553692]\n",
      "2^x = [1. 2. 4. 8.]\n",
      "3^x = [ 1  3  9 27]\n"
     ]
    }
   ],
   "source": [
    "x = np.arange(4)\n",
    "print(\"x =\",x)\n",
    "print(\"e^x =\",np.exp(x))\n",
    "print(\"2^x =\",np.exp2(x))\n",
    "print(\"3^x =\",np.power(3,x))"
   ]
  },
  {
   "cell_type": "markdown",
   "id": "1b26e137-2fd9-493b-afa2-0755fc1b36e4",
   "metadata": {},
   "source": [
    "### There are also available the inverse of expontinoal is logarithm .base-2to base-10"
   ]
  },
  {
   "cell_type": "code",
   "execution_count": 9,
   "id": "1f4475cb-62ee-41d6-b10d-1431236a5c9a",
   "metadata": {},
   "outputs": [
    {
     "name": "stdout",
     "output_type": "stream",
     "text": [
      "x  = [1, 2, 4, 10]\n",
      "ln(x) = [0.         0.69314718 1.38629436 2.30258509]\n",
      "ln2(x) = [0.         1.         2.         3.32192809]\n",
      "ln10(x) = [0.         0.30103    0.60205999 1.        ]\n"
     ]
    }
   ],
   "source": [
    "x= [1,2,4,10]\n",
    "print(\"x  =\",x)\n",
    "print(\"ln(x) =\",np.log(x))\n",
    "print(\"ln2(x) =\",np.log2(x))\n",
    "print(\"ln10(x) =\",np.log10(x))"
   ]
  },
  {
   "cell_type": "markdown",
   "id": "9f8c20ed-e4aa-4cd8-85de-d2e02489f88b",
   "metadata": {},
   "source": [
    "### Specialized U function"
   ]
  },
  {
   "cell_type": "markdown",
   "id": "c46d37b4-1ca3-475c-9ce6-d701e5d0dc17",
   "metadata": {},
   "source": [
    "#### Another excellent Source for more Specialized and u function is the sub module on scipy.special"
   ]
  },
  {
   "cell_type": "code",
   "execution_count": 10,
   "id": "7248a173-b082-48dc-8d69-f38044f2aecd",
   "metadata": {},
   "outputs": [],
   "source": [
    "from scipy import special"
   ]
  },
  {
   "cell_type": "code",
   "execution_count": 11,
   "id": "ad5c49aa-21ab-4010-9178-0e84c531d0e2",
   "metadata": {},
   "outputs": [
    {
     "name": "stdout",
     "output_type": "stream",
     "text": [
      "gamma(x)= [1. 1. 2.]\n",
      "Beta(x,2)= [0.5        0.16666667 0.08333333]\n"
     ]
    }
   ],
   "source": [
    "x=[1,2,3]\n",
    "print('gamma(x)=',special.gamma(x))\n",
    "print('Beta(x,2)=',special.beta(x,2))\n"
   ]
  },
  {
   "cell_type": "markdown",
   "id": "6d9dc926-59d9-4521-99a7-e9ea9260aba7",
   "metadata": {},
   "source": [
    "### Advance U Function\n",
    "  for all u functions this using the out argumentof the function"
   ]
  },
  {
   "cell_type": "code",
   "execution_count": 12,
   "id": "51a78aa9-d025-422e-a1b3-adae7268a9e8",
   "metadata": {},
   "outputs": [
    {
     "name": "stdout",
     "output_type": "stream",
     "text": [
      "[ 0. 10. 20. 30. 40. 50. 60. 70. 80. 90.]\n"
     ]
    }
   ],
   "source": [
    "x=np.arange(10)\n",
    "y=np.empty(10)\n",
    "np.multiply(x,10,out=y)\n",
    "print(y)"
   ]
  },
  {
   "cell_type": "code",
   "execution_count": 13,
   "id": "c6544ac5-ef37-492c-9f08-5e01680fd4f4",
   "metadata": {},
   "outputs": [
    {
     "data": {
      "text/plain": [
       "array([  1.,   2.,   4.,   8.,  16.,  32.,  64., 128., 256., 512.])"
      ]
     },
     "execution_count": 13,
     "metadata": {},
     "output_type": "execute_result"
    }
   ],
   "source": [
    "y=np.zeros(20)\n",
    "np.power(2,x,out =y[::2])"
   ]
  },
  {
   "cell_type": "markdown",
   "id": "ad9f39c1-fe1e-4783-9e9d-626c9331226a",
   "metadata": {},
   "source": [
    "### Aggregates"
   ]
  },
  {
   "cell_type": "markdown",
   "id": "88e664cc-9305-42ad-aba3-422410790b26",
   "metadata": {},
   "source": [
    "### we can use Aggreates to compute an Array"
   ]
  },
  {
   "cell_type": "code",
   "execution_count": 14,
   "id": "ee88401b-0a1b-4294-b702-80e1d82eb562",
   "metadata": {},
   "outputs": [
    {
     "data": {
      "text/plain": [
       "120"
      ]
     },
     "execution_count": 14,
     "metadata": {},
     "output_type": "execute_result"
    }
   ],
   "source": [
    "x=np.arange(1,6)\n",
    "np.multiply.reduce(x)"
   ]
  },
  {
   "cell_type": "code",
   "execution_count": 15,
   "id": "33c8b0f7-b772-41d3-ba5d-5a2263596d37",
   "metadata": {},
   "outputs": [
    {
     "data": {
      "text/plain": [
       "3628800"
      ]
     },
     "execution_count": 15,
     "metadata": {},
     "output_type": "execute_result"
    }
   ],
   "source": [
    "x=np.arange(1,11)\n",
    "np.multiply.reduce(x)"
   ]
  },
  {
   "cell_type": "markdown",
   "id": "78cf1487-b33f-4ba2-9d66-769f61443423",
   "metadata": {},
   "source": [
    "### When i  will store every intermediate result of agregates we caan simple to use the accumlate function"
   ]
  },
  {
   "cell_type": "code",
   "execution_count": 16,
   "id": "b6b37c62-371f-4236-a2ff-c81727ae6421",
   "metadata": {},
   "outputs": [
    {
     "data": {
      "text/plain": [
       "array([ 1,  3,  6, 10, 15])"
      ]
     },
     "execution_count": 16,
     "metadata": {},
     "output_type": "execute_result"
    }
   ],
   "source": [
    "x=np.arange(1,6)\n",
    "np.add.accumulate(x)\n"
   ]
  },
  {
   "cell_type": "code",
   "execution_count": 17,
   "id": "f954825e-031f-4a68-a2ac-4d9763f8ff75",
   "metadata": {},
   "outputs": [
    {
     "data": {
      "text/plain": [
       "array([  1,   2,   6,  24, 120])"
      ]
     },
     "execution_count": 17,
     "metadata": {},
     "output_type": "execute_result"
    }
   ],
   "source": [
    "x=np.arange(1,6)\n",
    "np.multiply.accumulate(x)"
   ]
  },
  {
   "cell_type": "markdown",
   "id": "f229135f-176b-408e-a95f-cb0420c33978",
   "metadata": {},
   "source": [
    "## Outer Product\n",
    "\n",
    "Any u function can compute the out put of all pairsof two different inputs using their outer method.it help  to create multiplication Table"
   ]
  },
  {
   "cell_type": "code",
   "execution_count": 18,
   "id": "be04b87d-df75-4ba9-91d4-48398fc5044b",
   "metadata": {},
   "outputs": [
    {
     "data": {
      "text/plain": [
       "array([[ 6,  7,  8,  9, 10, 11],\n",
       "       [12, 14, 16, 18, 20, 22],\n",
       "       [18, 21, 24, 27, 30, 33],\n",
       "       [24, 28, 32, 36, 40, 44],\n",
       "       [30, 35, 40, 45, 50, 55]])"
      ]
     },
     "execution_count": 18,
     "metadata": {},
     "output_type": "execute_result"
    }
   ],
   "source": [
    "x=np.arange(1,6)\n",
    "y=np.arange(6,12)\n",
    "np.multiply.outer(x,y)"
   ]
  },
  {
   "cell_type": "markdown",
   "id": "f9c72152-57be-489b-ae67-a21a563b0f2f",
   "metadata": {},
   "source": [
    "### summing the values in array"
   ]
  },
  {
   "cell_type": "code",
   "execution_count": 19,
   "id": "b65c9e08-31ae-494d-80ac-accdf637f1c6",
   "metadata": {},
   "outputs": [
    {
     "name": "stdout",
     "output_type": "stream",
     "text": [
      "106 μs ± 3.14 μs per loop (mean ± std. dev. of 7 runs, 10,000 loops each)\n",
      "8.59 μs ± 596 ns per loop (mean ± std. dev. of 7 runs, 100,000 loops each)\n"
     ]
    }
   ],
   "source": [
    "x=np.random.rand(1000)\n",
    "%timeit sum(x)\n",
    "\n",
    "%timeit np.sum(x)"
   ]
  },
  {
   "cell_type": "markdown",
   "id": "c4fd22c6-aa6c-4793-b366-b63703cebbfe",
   "metadata": {},
   "source": [
    "#### care full though the sum function  aand the np.sum function are not identical in manner which is sometime lead to confusion "
   ]
  },
  {
   "cell_type": "markdown",
   "id": "ccfb3de5-234b-45a9-9582-8f030f01ad77",
   "metadata": {},
   "source": [
    "## Minimum and Maximum"
   ]
  },
  {
   "cell_type": "markdown",
   "id": "eba4bd46-9bc4-4581-ba69-b6fd24c9f940",
   "metadata": {},
   "source": [
    "similarly python has built in min and max functions  used to find the minimum and maximum valueb of an given  Array"
   ]
  },
  {
   "cell_type": "code",
   "execution_count": 20,
   "id": "a9cdb46a-1797-4b44-94cc-7ef725a14db8",
   "metadata": {},
   "outputs": [
    {
     "data": {
      "text/plain": [
       "(0.0004201464384074871, 0.99979563941637)"
      ]
     },
     "execution_count": 20,
     "metadata": {},
     "output_type": "execute_result"
    }
   ],
   "source": [
    "np.min(x),np.max(x)"
   ]
  },
  {
   "cell_type": "code",
   "execution_count": 21,
   "id": "0a61d000-ebf5-437f-b8d1-a180ccbc759b",
   "metadata": {},
   "outputs": [
    {
     "name": "stdout",
     "output_type": "stream",
     "text": [
      "82.7 μs ± 7.14 μs per loop (mean ± std. dev. of 7 runs, 10,000 loops each)\n",
      "8.6 μs ± 226 ns per loop (mean ± std. dev. of 7 runs, 100,000 loops each)\n",
      "[0.0004201464384074871, 0.99979563941637, 513.3255621652977]\n"
     ]
    }
   ],
   "source": [
    "%timeit min(x)\n",
    "%timeit np.min(x)\n",
    "\n",
    "print([x.min(),x.max(),x.sum()])"
   ]
  },
  {
   "cell_type": "markdown",
   "id": "4050da4f-6920-4741-8faf-04a74c10e747",
   "metadata": {},
   "source": [
    "### Multi dimensional Aggreates"
   ]
  },
  {
   "cell_type": "markdown",
   "id": "e0b38846-b2ea-4631-a28b-eed3f708389a",
   "metadata": {},
   "source": [
    "## how we can stored data muitidimensional array"
   ]
  },
  {
   "cell_type": "code",
   "execution_count": 22,
   "id": "2a94515b-e783-4132-aae1-93ff461812da",
   "metadata": {},
   "outputs": [
    {
     "name": "stdout",
     "output_type": "stream",
     "text": [
      "[[0.62657201 0.605245   0.45591412 0.64131691]\n",
      " [0.78053046 0.31051357 0.03347525 0.65294298]\n",
      " [0.05654258 0.21633674 0.52889253 0.27070488]]\n"
     ]
    }
   ],
   "source": [
    "M=np.random.random((3,4))\n",
    "\n",
    "print(M)"
   ]
  },
  {
   "cell_type": "code",
   "execution_count": 23,
   "id": "c7329bfb-afd6-44b9-894c-535c23b35724",
   "metadata": {},
   "outputs": [
    {
     "data": {
      "text/plain": [
       "5.178987025372077"
      ]
     },
     "execution_count": 23,
     "metadata": {},
     "output_type": "execute_result"
    }
   ],
   "source": [
    "M.sum()"
   ]
  },
  {
   "cell_type": "markdown",
   "id": "112b9b44-d179-4418-b292-b0b5e9fca7a8",
   "metadata": {},
   "source": [
    "## when we can compute one specific row or coloumn then we can use axis"
   ]
  },
  {
   "cell_type": "code",
   "execution_count": 24,
   "id": "cab37ce9-ab65-4ddd-90b4-58fc43ffdde3",
   "metadata": {},
   "outputs": [
    {
     "data": {
      "text/plain": [
       "array([0.05654258, 0.21633674, 0.03347525, 0.27070488])"
      ]
     },
     "execution_count": 24,
     "metadata": {},
     "output_type": "execute_result"
    }
   ],
   "source": [
    "M.min(axis=0)##coloumn"
   ]
  },
  {
   "cell_type": "code",
   "execution_count": null,
   "id": "585a73c1-3e46-459f-bd26-4a0c46ac9b4f",
   "metadata": {},
   "outputs": [],
   "source": []
  },
  {
   "cell_type": "code",
   "execution_count": 25,
   "id": "e84ec6ba-8a7d-40de-99a3-c36adfd7c00e",
   "metadata": {},
   "outputs": [
    {
     "data": {
      "text/plain": [
       "array([0.64131691, 0.78053046, 0.52889253])"
      ]
     },
     "execution_count": 25,
     "metadata": {},
     "output_type": "execute_result"
    }
   ],
   "source": [
    "M.max(axis=1)##row"
   ]
  },
  {
   "cell_type": "markdown",
   "id": "c07321f6-4d41-4b37-b983-dc41338686bf",
   "metadata": {},
   "source": [
    "## Find the average height of the US President"
   ]
  },
  {
   "cell_type": "code",
   "execution_count": 26,
   "id": "b441b7c6-e29a-4056-8a4b-1c169238c663",
   "metadata": {},
   "outputs": [],
   "source": [
    " import pandas as pd"
   ]
  },
  {
   "cell_type": "code",
   "execution_count": 27,
   "id": "e5f68fd8-0dcf-4c6d-9dde-cf1da121568c",
   "metadata": {},
   "outputs": [],
   "source": [
    "data=pd.read_csv(\"us_presidents.csv\")\n"
   ]
  },
  {
   "cell_type": "code",
   "execution_count": 28,
   "id": "e32d97df-abd5-4e3d-82fc-cb7c6e81f62a",
   "metadata": {},
   "outputs": [
    {
     "name": "stdout",
     "output_type": "stream",
     "text": [
      "[189 170 189 163 183 171 185 168 173 183 173 173 175 178 183 193 178 173\n",
      " 174 183 183 168 170 178 182 180 183 178 182 188 175 179 183 193 182 183\n",
      " 177 185 188 188 182 185]\n"
     ]
    }
   ],
   "source": [
    "heights=np.array(data['height(cm)'])\n",
    "print(heights)"
   ]
  },
  {
   "cell_type": "code",
   "execution_count": 29,
   "id": "ea328ab8-e281-4a65-b295-d24576118e3d",
   "metadata": {},
   "outputs": [
    {
     "name": "stdout",
     "output_type": "stream",
     "text": [
      "The Mean is= 179.73809523809524\n",
      "THe standard deviation is= 6.931843442745892\n",
      "Tne Minimum height is =  163\n",
      "the maximu height is= 193\n"
     ]
    }
   ],
   "source": [
    "print('The Mean is=',np.mean(heights))\n",
    "print('THe standard deviation is=',np.std(heights))\n",
    "print(\"Tne Minimum height is = \",np.min(heights))\n",
    "print('the maximu height is=',np.max(heights))\n"
   ]
  },
  {
   "cell_type": "code",
   "execution_count": 30,
   "id": "ac3934e7-c496-425a-a312-d270259089b2",
   "metadata": {},
   "outputs": [
    {
     "name": "stdout",
     "output_type": "stream",
     "text": [
      "The percentile of 25 = 174.25\n",
      "The median is = 182.0\n",
      "The percentile of 75= 183.0\n"
     ]
    }
   ],
   "source": [
    "print('The percentile of 25 =',np.percentile(heights,25))\n",
    "print(\"The median is =\",np.median(heights))\n",
    "print('The percentile of 75=',np.percentile(heights,75))"
   ]
  },
  {
   "cell_type": "code",
   "execution_count": 31,
   "id": "45f10d7a-b0c9-4125-8955-df039b635967",
   "metadata": {},
   "outputs": [],
   "source": [
    "import matplotlib.pyplot as plt\n",
    "import seaborn; seaborn.set()"
   ]
  },
  {
   "cell_type": "code",
   "execution_count": 32,
   "id": "53ab03ad-a225-4aa4-a279-029b916e1dea",
   "metadata": {},
   "outputs": [
    {
     "ename": "AttributeError",
     "evalue": "module 'matplotlib.pyplot' has no attribute 'xlable'",
     "output_type": "error",
     "traceback": [
      "\u001b[1;31m---------------------------------------------------------------------------\u001b[0m",
      "\u001b[1;31mAttributeError\u001b[0m                            Traceback (most recent call last)",
      "Cell \u001b[1;32mIn[32], line 3\u001b[0m\n\u001b[0;32m      1\u001b[0m plt\u001b[38;5;241m.\u001b[39mhist(heights)\n\u001b[0;32m      2\u001b[0m plt\u001b[38;5;241m.\u001b[39mtitle(\u001b[38;5;124m\"\u001b[39m\u001b[38;5;124mThe height of the us president\u001b[39m\u001b[38;5;124m\"\u001b[39m)\n\u001b[1;32m----> 3\u001b[0m \u001b[43mplt\u001b[49m\u001b[38;5;241;43m.\u001b[39;49m\u001b[43mxlable\u001b[49m(\u001b[38;5;124m'\u001b[39m\u001b[38;5;124mheight(cm)\u001b[39m\u001b[38;5;124m'\u001b[39m)\n\u001b[0;32m      4\u001b[0m plt\u001b[38;5;241m.\u001b[39mylable(\u001b[38;5;124m\"\u001b[39m\u001b[38;5;124mnumber\u001b[39m\u001b[38;5;124m\"\u001b[39m);\n",
      "\u001b[1;31mAttributeError\u001b[0m: module 'matplotlib.pyplot' has no attribute 'xlable'"
     ]
    },
    {
     "data": {
      "image/png": "[encoded data removed]",
      "text/plain": [
       "<Figure size 640x480 with 1 Axes>"
      ]
     },
     "metadata": {},
     "output_type": "display_data"
    }
   ],
   "source": [
    "plt.hist(heights)\n",
    "plt.title(\"The height of the us president\")\n",
    "plt.xlable('height(cm)')\n",
    "plt.ylable(\"number\");"
   ]
  },
  {
   "cell_type": "markdown",
   "id": "42769db2-9e7e-4ff5-883f-69eeab8a5cdb",
   "metadata": {},
   "source": [
    "### Computation on array using Broad casting"
   ]
  },
  {
   "cell_type": "markdown",
   "id": "215c0563-5bb7-4d18-936a-d0cbddbad420",
   "metadata": {},
   "source": [
    "#### Introduction to broad casting\n",
    "\n",
    "Recall that for arrays of the same size  binary operations are perom the element by element in basics"
   ]
  },
  {
   "cell_type": "code",
   "execution_count": null,
   "id": "7a6bd666-5e8d-4782-9e36-1c068075fd97",
   "metadata": {},
   "outputs": [],
   "source": [
    "a=np.array([1,2,3])\n",
    "b=np.array([4,5,6])\n",
    "\n",
    "a+b"
   ]
  },
  {
   "cell_type": "code",
   "execution_count": null,
   "id": "dd957df7-6e69-42fe-9a5e-29f8181d793a",
   "metadata": {},
   "outputs": [],
   "source": [
    "#  We can also add scalar thing on the Array\n",
    "a+5"
   ]
  },
  {
   "cell_type": "code",
   "execution_count": null,
   "id": "0063cbd9-3b16-4f23-b4c0-5e6ba1adfddd",
   "metadata": {},
   "outputs": [],
   "source": [
    "#We can also add two dimensional array and one dimensional array\n",
    "\n",
    "M=np.ones((3,3))\n",
    "M\n",
    "print(M+a)"
   ]
  },
  {
   "cell_type": "code",
   "execution_count": null,
   "id": "f1376e83-cbbe-4d75-81af-0c8615752289",
   "metadata": {},
   "outputs": [],
   "source": [
    "# 1st array column is equall to second Array row\n",
    "a=np.arange(3)\n",
    "b=np.arange(3)[:,np.newaxis]\n",
    "print(a)\n",
    "print(b)\n",
    "a+b"
   ]
  },
  {
   "cell_type": "markdown",
   "id": "6417712d-5130-4e5f-9468-3722029b98aa",
   "metadata": {},
   "source": [
    "### Rule of Broadcasting"
   ]
  },
  {
   "cell_type": "raw",
   "id": "850bee54-a1d2-4a7b-a951-e6595720ed82",
   "metadata": {},
   "source": [
    "Rule  1:If the two array differ in their number of dimensions the shape of the one with fewer dimensions is padded with ones on its left side.\n",
    "Rule  2:If the shape of the two array does not match in any dimension ,the array with shape equal to 1 in that dimension is stretched to match their             shape.\n",
    "Rule  3: if any dimensions the sizes disagree and neither is equal to 1 an error is raised."
   ]
  },
  {
   "cell_type": "markdown",
   "id": "99fbab3f-be13-40ed-958e-f2c847df7eb5",
   "metadata": {},
   "source": [
    "### Broad casting Practice"
   ]
  },
  {
   "cell_type": "markdown",
   "id": "a73f5dc0-e050-4308-bf28-14f844da5aaf",
   "metadata": {},
   "source": [
    "#### Where it is use to find the centering of the array we can used of the broad casting "
   ]
  },
  {
   "cell_type": "code",
   "execution_count": null,
   "id": "4fcd0fd0-4f41-4653-8f3b-c08a52e22605",
   "metadata": {},
   "outputs": [],
   "source": [
    "x=np.random.random((10,3))\n",
    "x"
   ]
  },
  {
   "cell_type": "code",
   "execution_count": null,
   "id": "78319608-7b99-4d19-924d-ba59717915e5",
   "metadata": {},
   "outputs": [],
   "source": [
    "xmean=x.mean(0)\n",
    "xmean"
   ]
  },
  {
   "cell_type": "code",
   "execution_count": null,
   "id": "0b7959a2-5f44-4e35-a092-cad57a545313",
   "metadata": {},
   "outputs": [],
   "source": [
    "xcentered= x - xmean\n",
    "print(xcentered)"
   ]
  },
  {
   "cell_type": "raw",
   "id": "1b4b5e20-986b-400b-a4ff-3708d747c4b2",
   "metadata": {},
   "source": [
    "plotting a two dimensional function"
   ]
  },
  {
   "cell_type": "code",
   "execution_count": null,
   "id": "29de6e60-eabe-4cbc-97de-4e2bd2477fb1",
   "metadata": {},
   "outputs": [],
   "source": [
    "x=np.linspace(0.5,50)\n",
    "y=np.linspace(0.5,50)[:,np.newaxis]\n",
    "z=np.sin(x) ** 10+ np.cos(10+ y + x)*np.cos(x)"
   ]
  },
  {
   "cell_type": "code",
   "execution_count": null,
   "id": "36b3f806-67ce-4e77-a1c9-712d3cf5e284",
   "metadata": {},
   "outputs": [],
   "source": [
    "import matplotlib.pyplot as plt"
   ]
  },
  {
   "cell_type": "code",
   "execution_count": null,
   "id": "acfb08e4-c7c3-4840-8600-460f72712947",
   "metadata": {},
   "outputs": [],
   "source": [
    "plt.imshow(z,origin=\"lower\",extent=[0,5,0,5],cmap='viridis')\n",
    "plt.colorbar();"
   ]
  },
  {
   "cell_type": "markdown",
   "id": "82560286-7c00-47ad-856d-e05c7a3b3cf2",
   "metadata": {},
   "source": [
    "## Comparision Mask and Bollen Logic"
   ]
  },
  {
   "cell_type": "markdown",
   "id": "039af606-859e-4f76-8757-0e83a0361bf3",
   "metadata": {},
   "source": [
    "### Masking comes to place when U want to extract , modifying ,count  otherwise manipulate  values in an array  based  on same criteria "
   ]
  },
  {
   "cell_type": "markdown",
   "id": "a0178917-db0f-475a-8290-b53af318951c",
   "metadata": {},
   "source": [
    "## Comparision Operaator as Ufunction"
   ]
  },
  {
   "cell_type": "markdown",
   "id": "4e21679c-ada3-4657-8fc0-be6962b47c66",
   "metadata": {},
   "source": [
    "### Computation on numpy arrays universal function\n",
    "## Example:-\n",
    "\n",
    "    "
   ]
  },
  {
   "cell_type": "code",
   "execution_count": null,
   "id": "ed4b6c7a-7d2b-48a3-8100-526aae40f9d6",
   "metadata": {},
   "outputs": [],
   "source": [
    "rng= np.random.RandomState(0)\n",
    "x=rng.randint(10,size=(3,4))\n",
    "x"
   ]
  },
  {
   "cell_type": "code",
   "execution_count": null,
   "id": "7c835bfb-3fd5-4c44-aa0b-c68aae446366",
   "metadata": {},
   "outputs": [],
   "source": [
    "x < 6"
   ]
  },
  {
   "cell_type": "markdown",
   "id": "78a387d2-ef02-4379-a5fa-8a5b27520ed6",
   "metadata": {},
   "source": [
    "## Working with Boolen Array"
   ]
  },
  {
   "cell_type": "code",
   "execution_count": null,
   "id": "3b74ef57-2bcd-4263-beea-41a4abaeb702",
   "metadata": {},
   "outputs": [],
   "source": [
    "print(x)"
   ]
  },
  {
   "cell_type": "markdown",
   "id": "e7b9b79b-08f3-42fb-98a0-097e4ba5acaa",
   "metadata": {},
   "source": [
    "#### Counting Array"
   ]
  },
  {
   "cell_type": "code",
   "execution_count": null,
   "id": "b5d574e5-b5f2-46c0-ad35-70b54dc51bd5",
   "metadata": {},
   "outputs": [],
   "source": [
    "np.count_nonzero(x<6)"
   ]
  },
  {
   "cell_type": "markdown",
   "id": "f9f2901b-ed0c-4083-8df9-02fb76d1eb0f",
   "metadata": {},
   "source": [
    "#### Another case to count that we can use np.sum; but in this case false is interpreted asd zero and true is Interpreted at :-"
   ]
  },
  {
   "cell_type": "code",
   "execution_count": null,
   "id": "f5e4143b-c817-4036-b059-9fcd9018e57e",
   "metadata": {},
   "outputs": [],
   "source": [
    "np.sum(x<6)"
   ]
  },
  {
   "cell_type": "markdown",
   "id": "4e96d30a-1a7c-44f4-bdf2-a04dc01426ad",
   "metadata": {},
   "source": [
    "#### How many values less than 6 in that accsess  each value in the matrix quickly checking whether any or  all the value's\n",
    "     "
   ]
  },
  {
   "cell_type": "code",
   "execution_count": null,
   "id": "d76f16a9-7286-40b6-9eba-ce4d7acf1610",
   "metadata": {},
   "outputs": [],
   "source": [
    "np.any(x>8) # are any value is greater than 8 "
   ]
  },
  {
   "cell_type": "code",
   "execution_count": null,
   "id": "a9ba2ee1-a433-41aa-9093-547eb2c716fb",
   "metadata": {},
   "outputs": [],
   "source": [
    "np.all(x<0) # are all value is greater than 0"
   ]
  },
  {
   "cell_type": "markdown",
   "id": "c2cd09fe-a62f-4708-8514-296118a3636a",
   "metadata": {},
   "source": [
    "## np.any(), np.all() function fubnction also be used in particular axis"
   ]
  },
  {
   "cell_type": "code",
   "execution_count": null,
   "id": "ee5617d1-5f1d-470b-b505-5a3df88066c9",
   "metadata": {},
   "outputs": [],
   "source": [
    "np.all(x<8,axis=0)"
   ]
  },
  {
   "cell_type": "markdown",
   "id": "e56b9fc3-7c2a-4626-905d-1363b3398c71",
   "metadata": {},
   "source": [
    "## Bollen Operator"
   ]
  },
  {
   "cell_type": "raw",
   "id": "6abf1eca-435e-4af3-858c-f211d1dcce4d",
   "metadata": {},
   "source": [
    "We have already seen how we might count , say , all  days  with rain less than four inches we can & use operator\n",
    "& , ^ ,| like the  standard metric operation."
   ]
  },
  {
   "cell_type": "markdown",
   "id": "027d2a90-6b57-4b35-910f-034c66b59de9",
   "metadata": {},
   "source": [
    "# Fancy Indexing"
   ]
  },
  {
   "cell_type": "code",
   "execution_count": 33,
   "id": "ac7d1161-3438-47ce-b2b2-bfc7d6c8545c",
   "metadata": {},
   "outputs": [
    {
     "name": "stdout",
     "output_type": "stream",
     "text": [
      "[51 92 14 71 60 20 82 86 74 74]\n"
     ]
    }
   ],
   "source": [
    "rand=np.random.RandomState(42)\n",
    "x=rand.randint(100,size=10)\n",
    "print(x)"
   ]
  },
  {
   "cell_type": "markdown",
   "id": "de5824f8-e2b2-4300-8d7d-4198e46002f2",
   "metadata": {},
   "source": [
    "## Suppose we want access different examples in different indexes"
   ]
  },
  {
   "cell_type": "code",
   "execution_count": 35,
   "id": "d8c373bd-73e2-43a6-a5b2-c95d2c87ff27",
   "metadata": {},
   "outputs": [
    {
     "data": {
      "text/plain": [
       "[71, 86, 60]"
      ]
     },
     "execution_count": 35,
     "metadata": {},
     "output_type": "execute_result"
    }
   ],
   "source": [
    "[x[3],x[7],x[4]]"
   ]
  },
  {
   "cell_type": "markdown",
   "id": "e0d38d84-4d13-4a7f-9116-f5f7d5e6e010",
   "metadata": {},
   "source": [
    "## We can pass a single list of array of indexes to obtain the same result"
   ]
  },
  {
   "cell_type": "code",
   "execution_count": 42,
   "id": "3bbe4755-6c34-4d8d-8d67-6ac8c5a99631",
   "metadata": {},
   "outputs": [
    {
     "data": {
      "text/plain": [
       "array([71, 86, 60])"
      ]
     },
     "execution_count": 42,
     "metadata": {},
     "output_type": "execute_result"
    }
   ],
   "source": [
    "ind=[3,7,4]\n",
    "x[ind]"
   ]
  },
  {
   "cell_type": "code",
   "execution_count": 44,
   "id": "669c78da-3979-4924-937c-f40ca9c71d6b",
   "metadata": {},
   "outputs": [
    {
     "data": {
      "text/plain": [
       "array([[71, 86],\n",
       "       [60, 20]])"
      ]
     },
     "execution_count": 44,
     "metadata": {},
     "output_type": "execute_result"
    }
   ],
   "source": [
    "ind= np.array([[3,7],\n",
    "             [4,5]])\n",
    "x[ind]"
   ]
  },
  {
   "cell_type": "code",
   "execution_count": 45,
   "id": "e69d71e0-acbb-4455-b419-372b450184ff",
   "metadata": {},
   "outputs": [
    {
     "data": {
      "text/plain": [
       "array([[ 0,  1,  2,  3],\n",
       "       [ 4,  5,  6,  7],\n",
       "       [ 8,  9, 10, 11]])"
      ]
     },
     "execution_count": 45,
     "metadata": {},
     "output_type": "execute_result"
    }
   ],
   "source": [
    "x=np.arange(12).reshape((3,4))\n",
    "x"
   ]
  },
  {
   "cell_type": "markdown",
   "id": "64b4be34-eb24-424e-9fff-5f3ca7d41fd6",
   "metadata": {},
   "source": [
    "### like with standard indexing the first index refers to row and second to the coloumn"
   ]
  },
  {
   "cell_type": "code",
   "execution_count": 47,
   "id": "b2ae5958-eeac-4a82-9b67-ad3d885d5c58",
   "metadata": {},
   "outputs": [
    {
     "data": {
      "text/plain": [
       "array([ 2,  5, 11])"
      ]
     },
     "execution_count": 47,
     "metadata": {},
     "output_type": "execute_result"
    }
   ],
   "source": [
    "row=np.array([0,1,2])\n",
    "col=np.array([2,1,3])\n",
    "x[row,col]"
   ]
  },
  {
   "cell_type": "markdown",
   "id": "5532c386-176d-4c3a-b352-1c515bfaa9b3",
   "metadata": {},
   "source": [
    "## Combined Indexing"
   ]
  },
  {
   "cell_type": "code",
   "execution_count": 48,
   "id": "d9ef530c-26d3-4d10-b909-af27f058a213",
   "metadata": {},
   "outputs": [
    {
     "name": "stdout",
     "output_type": "stream",
     "text": [
      "[[ 0  1  2  3]\n",
      " [ 4  5  6  7]\n",
      " [ 8  9 10 11]]\n"
     ]
    }
   ],
   "source": [
    "print(x)"
   ]
  },
  {
   "cell_type": "code",
   "execution_count": 49,
   "id": "9a403abb-820b-4ec5-b78e-442acf750d5c",
   "metadata": {},
   "outputs": [
    {
     "data": {
      "text/plain": [
       "array([10,  8,  9])"
      ]
     },
     "execution_count": 49,
     "metadata": {},
     "output_type": "execute_result"
    }
   ],
   "source": [
    "x[2,[2,0,1]]"
   ]
  },
  {
   "cell_type": "markdown",
   "id": "0823bd50-eb8e-4569-9335-419dcf1c3057",
   "metadata": {},
   "source": [
    "### And we can combine fancy indexing with masking"
   ]
  },
  {
   "cell_type": "code",
   "execution_count": 51,
   "id": "cb3f9796-7707-40a9-81f3-ff06e11c3362",
   "metadata": {},
   "outputs": [
    {
     "data": {
      "text/plain": [
       "array([[ 6,  4,  5],\n",
       "       [10,  8,  9]])"
      ]
     },
     "execution_count": 51,
     "metadata": {},
     "output_type": "execute_result"
    }
   ],
   "source": [
    "x[1:,[2,0,1]]"
   ]
  },
  {
   "cell_type": "code",
   "execution_count": 52,
   "id": "02e0ebae-c741-49cc-8245-7bcc428321e8",
   "metadata": {},
   "outputs": [
    {
     "data": {
      "text/plain": [
       "array([[ 0,  2],\n",
       "       [ 4,  6],\n",
       "       [ 8, 10]])"
      ]
     },
     "execution_count": 52,
     "metadata": {},
     "output_type": "execute_result"
    }
   ],
   "source": [
    "mask=np.array([1,0,1,0],dtype=bool)\n",
    "x[row[:,np.newaxis],mask]"
   ]
  },
  {
   "cell_type": "code",
   "execution_count": null,
   "id": "2ea6105f-a366-4673-8f89-26db66bbacf4",
   "metadata": {},
   "outputs": [],
   "source": []
  }
 ],
 "metadata": {
  "kernelspec": {
   "display_name": "Python 3 (ipykernel)",
   "language": "python",
   "name": "python3"
  },
  "language_info": {
   "codemirror_mode": {
    "name": "ipython",
    "version": 3
   },
   "file_extension": ".py",
   "mimetype": "text/x-python",
   "name": "python",
   "nbconvert_exporter": "python",
   "pygments_lexer": "ipython3",
   "version": "3.12.4"
  }
 },
 "nbformat": 4,
 "nbformat_minor": 5
}
